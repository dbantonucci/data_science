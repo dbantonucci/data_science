{
  "nbformat": 4,
  "nbformat_minor": 0,
  "metadata": {
    "colab": {
      "name": "extracao_dna_comparacao.ipynb",
      "provenance": [],
      "collapsed_sections": [],
      "toc_visible": true,
      "mount_file_id": "1jr0rYjG9LJgLkh8sb55DPwwIUb8nVUhG",
      "authorship_tag": "ABX9TyNH7YDn6oHXn4y8qjSQXEVt",
      "include_colab_link": true
    },
    "kernelspec": {
      "name": "python3",
      "display_name": "Python 3"
    }
  },
  "cells": [
    {
      "cell_type": "markdown",
      "metadata": {
        "id": "view-in-github",
        "colab_type": "text"
      },
      "source": [
        "<a href=\"https://colab.research.google.com/github/dbantonucci/data_science/blob/data_science/extracao_dna_comparacao.ipynb\" target=\"_parent\"><img src=\"https://colab.research.google.com/assets/colab-badge.svg\" alt=\"Open In Colab\"/></a>"
      ]
    },
    {
      "cell_type": "markdown",
      "metadata": {
        "id": "lwabgPDIUJ19"
      },
      "source": [
        "<font color='green' size='5.4'> <b>\r\n",
        "EXTRAÇÃO DE DNA DE AMOSTRAS FRESCAS\r\n",
        "</b></font>\r\n",
        "\r\n",
        "### Relato de comparações e impressões sobre a __extração de DNA genômico humano__ a partir de sangue total fresco e swab bucal através das técnicas de __salting-out__ e __kits comerciais__\r\n",
        "\r\n",
        "<font color='green' size='3.4'> <i>\r\n",
        "Davi B Antonucci\r\n",
        "</i></font>\r\n"
      ]
    },
    {
      "cell_type": "markdown",
      "metadata": {
        "id": "QjcRp-BgzaMX"
      },
      "source": [
        "Breve descrito quanto às impressões da\r\n",
        "primeira aula de extração de material genético\r\n",
        "no curso de __pós-graduação em Análises\r\n",
        "Laboratoriais por Biologia Molecular da\r\n",
        "Unibrasil__."
      ]
    },
    {
      "cell_type": "markdown",
      "metadata": {
        "id": "W9GespY1z057"
      },
      "source": [
        "\r\n",
        "\r\n",
        "<font color='green' size='5.4'> <b> <i>\r\n",
        "Técnica de salting-out\r\n",
        "</i> </b> </font>\r\n",
        "\r\n",
        "Para esta técnica foi utilizado de 5 a 10 ml de\r\n",
        "amostra de sangue periférico fresco. A amostra\r\n",
        "foi armazenada com o anticoagulante EDTA.\r\n",
        "Após centrifugação pipetamos o buffy coat e o\r\n",
        "transferimos a um tubo falcon de 15ml. Foi\r\n",
        "adicionado o detergente Nonidet e a solução de\r\n",
        "lise TKM1. Agitamos em vórtex, centrifugamos\r\n",
        "e lavamos o pellet por duas vezes com solução\r\n",
        "TKM1. Em seguida transferimos o pellet com\r\n",
        "solução TKM2 para outro microtubo.\r\n",
        "Adicionamos SDS 10%, agitamos e incubamos\r\n",
        "em banho-maria. Após o período de incubação\r\n",
        "e procedimentos de lavagem foi possível\r\n",
        "observar o DNA o qual foi preparado para\r\n",
        "congelamento em solução TE. Através desta\r\n",
        "técnica obtêm-se boa quantidade de material\r\n",
        "porém existe a possibilidade de presença de sais\r\n",
        "no final do processo que podem influenciar na\r\n",
        "análise deste pelas técnicas de biologia\r\n",
        "molecular.\r\n",
        "\r\n",
        "\r\n",
        "\r\n",
        "Foi possível observar que para a utilização desta\r\n",
        "técnica o profissional deve possuir bom\r\n",
        "conhecimento dos instrumentais, bem como,\r\n",
        "das soluções, preparação e armazenagem\r\n",
        "destas, manuseio dos equipamentos de\r\n",
        "laboratório tais como agitadores, centrífugas,\r\n",
        "minicentrífugas, incubadoras e excelente\r\n",
        "domínio do fluxo da extração compreendendo\r\n",
        "os fatores tempo, tipo de amostra, organização\r\n",
        "e procedimentos de segurança.\r\n",
        "O baixo custo deste procedimento se contrapõe\r\n",
        "ao tempo de execução e, em alguns casos, ao\r\n",
        "volume e qualidade do material extraído. Em\r\n",
        "contrapartida, o domínio desta técnica permite\r\n",
        "que o profissional se familiarize com as etapas\r\n",
        "do processo e esteja preparado para tomadas\r\n",
        "de decisão e adaptações necessárias para os\r\n",
        "diversos tipos de amostras e situações\r\n",
        "inesperadas no cotidiano de laboratório."
      ]
    },
    {
      "cell_type": "markdown",
      "metadata": {
        "id": "U-W32TXb0RWF"
      },
      "source": [
        "<font color='green' size='5.4'><b>\r\n",
        "Extração por kits comerciais\r\n",
        "</b></font>\r\n",
        "\r\n",
        "Para esta prática foi utilizado swab bucal e o kit\r\n",
        "comercial da marca [__KASVI__](http://www.kasvi.com.br \"Site Oficial da KASVI\") tipo __KIT EXTRAÇÃO\r\n",
        "MINI-SPIN 50__, código K9-0050. Seguimos os\r\n",
        "procedimentos fornecidos pela empresa e foi\r\n",
        "obtido o DNA genômico ao final do processo.\r\n",
        "Através desta técnica não foi possível observar\r\n",
        "a fibra de DNA embora verificou-se boa\r\n",
        "quantidade. Observa-se notada economia de\r\n",
        "tempo e praticidade na condução deste\r\n",
        "processo, bem como, menor risco de erros\r\n",
        "operacionais e de contaminação, produzindo\r\n",
        "grau de pureza satisfatório. O custo final da\r\n",
        "extração, no entanto, deve ser ponderado pois\r\n",
        "excede ao da técnica de salting-out.\r\n",
        "Embora esta técnica exija menos\r\n",
        "procedimentos manuais, devido ao menor\r\n",
        "volume das amostras e de soluções\r\n",
        "empregadas, a atenção, organização e precisão\r\n",
        "é uma demanda."
      ]
    },
    {
      "cell_type": "markdown",
      "metadata": {
        "id": "X_BokLJc0XZs"
      },
      "source": [
        "<font color='green' size='5.4'><b>\r\n",
        "Considerações e Recomendações\r\n",
        "</b></font>\r\n",
        "\r\n",
        "O conhecimento de ambas as técnicas é de\r\n",
        "grande importância e, no contexto comercial,\r\n",
        "para laboratórios de pequeno porte pode-se\r\n",
        "adotar a técnica de salting-out, no entanto, para\r\n",
        "grandes quantidades de amostras, os kits\r\n",
        "comerciais são uma melhor opção devido, em\r\n",
        "especial, ao menor tempo e praticidade."
      ]
    }
  ]
}