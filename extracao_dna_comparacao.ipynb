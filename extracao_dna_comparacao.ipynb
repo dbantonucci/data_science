{
  "nbformat": 4,
  "nbformat_minor": 0,
  "metadata": {
    "colab": {
      "name": "extracao_dna_comparacao.ipynb",
      "provenance": [],
      "collapsed_sections": [],
      "toc_visible": true,
      "mount_file_id": "1jr0rYjG9LJgLkh8sb55DPwwIUb8nVUhG",
      "authorship_tag": "ABX9TyO3E3gEX7jqpA4gQwN59PJQ",
      "include_colab_link": true
    },
    "kernelspec": {
      "name": "python3",
      "display_name": "Python 3"
    }
  },
  "cells": [
    {
      "cell_type": "markdown",
      "metadata": {
        "id": "view-in-github",
        "colab_type": "text"
      },
      "source": [
        "<a href=\"https://colab.research.google.com/github/dbantonucci/data_science/blob/data_science/extracao_dna_comparacao.ipynb\" target=\"_parent\"><img src=\"https://colab.research.google.com/assets/colab-badge.svg\" alt=\"Open In Colab\"/></a>"
      ]
    },
    {
      "cell_type": "markdown",
      "metadata": {
        "id": "lwabgPDIUJ19"
      },
      "source": [
        "# Primeira Extração de DNA\r\n",
        "### Comparações Entre as Técnicas de Salting-Out e Kits Comerciais\r\n",
        "\r\n",
        "#### **Davi B Antonucci e Outros**\r\n"
      ]
    }
  ]
}