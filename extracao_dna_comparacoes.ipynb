{
  "nbformat": 4,
  "nbformat_minor": 0,
  "metadata": {
    "colab": {
      "name": "Untitled4.ipynb",
      "provenance": [],
      "mount_file_id": "1jr0rYjG9LJgLkh8sb55DPwwIUb8nVUhG",
      "authorship_tag": "ABX9TyMrRKi27QMSoGn1BaEsS1s0",
      "include_colab_link": true
    },
    "kernelspec": {
      "name": "python3",
      "display_name": "Python 3"
    }
  },
  "cells": [
    {
      "cell_type": "markdown",
      "metadata": {
        "id": "view-in-github",
        "colab_type": "text"
      },
      "source": [
        "<a href=\"https://colab.research.google.com/github/dbantonucci/data_science/blob/data_science/extracao_dna_comparacoes.ipynb\" target=\"_parent\"><img src=\"https://colab.research.google.com/assets/colab-badge.svg\" alt=\"Open In Colab\"/></a>"
      ]
    },
    {
      "cell_type": "markdown",
      "metadata": {
        "id": "lwabgPDIUJ19"
      },
      "source": [
        "# Primeira Extração de DNA\r\n",
        "## Comparações Entre as Técnicas de Salting-Out e Kits Comerciais\r\n",
        "\r\n",
        "### **Davi B Antonucci**\r\n"
      ]
    }
  ]
}